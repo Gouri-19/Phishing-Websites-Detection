{
  "cells": [
    {
      "cell_type": "markdown",
      "metadata": {
        "id": "view-in-github",
        "colab_type": "text"
      },
      "source": [
        "<a href=\"https://colab.research.google.com/github/Gouri-19/Phishing-Websites-Detection/blob/main/ISM.ipynb\" target=\"_parent\"><img src=\"https://colab.research.google.com/assets/colab-badge.svg\" alt=\"Open In Colab\"/></a>"
      ]
    },
    {
      "cell_type": "markdown",
      "metadata": {
        "id": "fheznBoyikpL"
      },
      "source": [
        "# Phishing website detection"
      ]
    },
    {
      "cell_type": "code",
      "execution_count": null,
      "metadata": {
        "colab": {
          "base_uri": "https://localhost:8080/",
          "height": 74,
          "resources": {
            "http://localhost:8080/nbextensions/google.colab/files.js": {
              "data": "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",
              "headers": [
                [
                  "content-type",
                  "application/javascript"
                ]
              ],
              "ok": true,
              "status": 200,
              "status_text": ""
            }
          }
        },
        "id": "UUFx21nzhw2z",
        "outputId": "356eb56d-c24a-47db-919c-1e1a2126e151"
      },
      "outputs": [
        {
          "output_type": "display_data",
          "data": {
            "text/plain": [
              "<IPython.core.display.HTML object>"
            ],
            "text/html": [
              "\n",
              "     <input type=\"file\" id=\"files-ce126ca0-b3f8-4b98-a16e-d06d4f7c78e0\" name=\"files[]\" multiple disabled\n",
              "        style=\"border:none\" />\n",
              "     <output id=\"result-ce126ca0-b3f8-4b98-a16e-d06d4f7c78e0\">\n",
              "      Upload widget is only available when the cell has been executed in the\n",
              "      current browser session. Please rerun this cell to enable.\n",
              "      </output>\n",
              "      <script src=\"/nbextensions/google.colab/files.js\"></script> "
            ]
          },
          "metadata": {}
        },
        {
          "output_type": "stream",
          "name": "stdout",
          "text": [
            "Saving UCI_1.csv to UCI_1.csv\n"
          ]
        }
      ],
      "source": [
        "import numpy as np\n",
        "import matplotlib.pyplot as plt\n",
        "import pandas as pd\n",
        "from google.colab import files  \n",
        "uploaded = files.upload()\n"
      ]
    },
    {
      "cell_type": "code",
      "execution_count": null,
      "metadata": {
        "id": "Gd4s7HrIjVPP"
      },
      "outputs": [],
      "source": [
        "df=pd.read_csv('UCI_1.csv')"
      ]
    },
    {
      "cell_type": "markdown",
      "source": [
        "## **EDA and Pre-Processing**"
      ],
      "metadata": {
        "id": "HW-fTq-bj-II"
      }
    },
    {
      "cell_type": "code",
      "execution_count": null,
      "metadata": {
        "colab": {
          "base_uri": "https://localhost:8080/",
          "height": 299
        },
        "id": "NXJZBnPVjpQG",
        "outputId": "6ec62ae1-941c-4934-f30c-0afe02e786c4"
      },
      "outputs": [
        {
          "output_type": "execute_result",
          "data": {
            "text/plain": [
              "   id  having_IP_Address  URL_Length  Shortining_Service  having_At_Symbol  \\\n",
              "0   1                 -1           1                   1                 1   \n",
              "1   2                  1           1                   1                 1   \n",
              "2   3                  1           0                   1                 1   \n",
              "3   4                  1           0                   1                 1   \n",
              "4   5                  1           0                  -1                 1   \n",
              "\n",
              "   double_slash_redirecting  Prefix_Suffix  having_Sub_Domain  SSLfinal_State  \\\n",
              "0                        -1             -1                 -1              -1   \n",
              "1                         1             -1                  0               1   \n",
              "2                         1             -1                 -1              -1   \n",
              "3                         1             -1                 -1              -1   \n",
              "4                         1             -1                  1               1   \n",
              "\n",
              "   Domain_registeration_length  ...  popUpWidnow  Iframe  age_of_domain  \\\n",
              "0                           -1  ...            1       1             -1   \n",
              "1                           -1  ...            1       1             -1   \n",
              "2                           -1  ...            1       1              1   \n",
              "3                            1  ...            1       1             -1   \n",
              "4                           -1  ...           -1       1             -1   \n",
              "\n",
              "   DNSRecord  web_traffic  Page_Rank  Google_Index  Links_pointing_to_page  \\\n",
              "0         -1           -1         -1             1                       1   \n",
              "1         -1            0         -1             1                       1   \n",
              "2         -1            1         -1             1                       0   \n",
              "3         -1            1         -1             1                      -1   \n",
              "4         -1            0         -1             1                       1   \n",
              "\n",
              "   Statistical_report  Result  \n",
              "0                  -1      -1  \n",
              "1                   1      -1  \n",
              "2                  -1      -1  \n",
              "3                   1      -1  \n",
              "4                   1       1  \n",
              "\n",
              "[5 rows x 32 columns]"
            ],
            "text/html": [
              "\n",
              "  <div id=\"df-822c3d70-ff32-4b90-80fa-302158f370d7\">\n",
              "    <div class=\"colab-df-container\">\n",
              "      <div>\n",
              "<style scoped>\n",
              "    .dataframe tbody tr th:only-of-type {\n",
              "        vertical-align: middle;\n",
              "    }\n",
              "\n",
              "    .dataframe tbody tr th {\n",
              "        vertical-align: top;\n",
              "    }\n",
              "\n",
              "    .dataframe thead th {\n",
              "        text-align: right;\n",
              "    }\n",
              "</style>\n",
              "<table border=\"1\" class=\"dataframe\">\n",
              "  <thead>\n",
              "    <tr style=\"text-align: right;\">\n",
              "      <th></th>\n",
              "      <th>id</th>\n",
              "      <th>having_IP_Address</th>\n",
              "      <th>URL_Length</th>\n",
              "      <th>Shortining_Service</th>\n",
              "      <th>having_At_Symbol</th>\n",
              "      <th>double_slash_redirecting</th>\n",
              "      <th>Prefix_Suffix</th>\n",
              "      <th>having_Sub_Domain</th>\n",
              "      <th>SSLfinal_State</th>\n",
              "      <th>Domain_registeration_length</th>\n",
              "      <th>...</th>\n",
              "      <th>popUpWidnow</th>\n",
              "      <th>Iframe</th>\n",
              "      <th>age_of_domain</th>\n",
              "      <th>DNSRecord</th>\n",
              "      <th>web_traffic</th>\n",
              "      <th>Page_Rank</th>\n",
              "      <th>Google_Index</th>\n",
              "      <th>Links_pointing_to_page</th>\n",
              "      <th>Statistical_report</th>\n",
              "      <th>Result</th>\n",
              "    </tr>\n",
              "  </thead>\n",
              "  <tbody>\n",
              "    <tr>\n",
              "      <th>0</th>\n",
              "      <td>1</td>\n",
              "      <td>-1</td>\n",
              "      <td>1</td>\n",
              "      <td>1</td>\n",
              "      <td>1</td>\n",
              "      <td>-1</td>\n",
              "      <td>-1</td>\n",
              "      <td>-1</td>\n",
              "      <td>-1</td>\n",
              "      <td>-1</td>\n",
              "      <td>...</td>\n",
              "      <td>1</td>\n",
              "      <td>1</td>\n",
              "      <td>-1</td>\n",
              "      <td>-1</td>\n",
              "      <td>-1</td>\n",
              "      <td>-1</td>\n",
              "      <td>1</td>\n",
              "      <td>1</td>\n",
              "      <td>-1</td>\n",
              "      <td>-1</td>\n",
              "    </tr>\n",
              "    <tr>\n",
              "      <th>1</th>\n",
              "      <td>2</td>\n",
              "      <td>1</td>\n",
              "      <td>1</td>\n",
              "      <td>1</td>\n",
              "      <td>1</td>\n",
              "      <td>1</td>\n",
              "      <td>-1</td>\n",
              "      <td>0</td>\n",
              "      <td>1</td>\n",
              "      <td>-1</td>\n",
              "      <td>...</td>\n",
              "      <td>1</td>\n",
              "      <td>1</td>\n",
              "      <td>-1</td>\n",
              "      <td>-1</td>\n",
              "      <td>0</td>\n",
              "      <td>-1</td>\n",
              "      <td>1</td>\n",
              "      <td>1</td>\n",
              "      <td>1</td>\n",
              "      <td>-1</td>\n",
              "    </tr>\n",
              "    <tr>\n",
              "      <th>2</th>\n",
              "      <td>3</td>\n",
              "      <td>1</td>\n",
              "      <td>0</td>\n",
              "      <td>1</td>\n",
              "      <td>1</td>\n",
              "      <td>1</td>\n",
              "      <td>-1</td>\n",
              "      <td>-1</td>\n",
              "      <td>-1</td>\n",
              "      <td>-1</td>\n",
              "      <td>...</td>\n",
              "      <td>1</td>\n",
              "      <td>1</td>\n",
              "      <td>1</td>\n",
              "      <td>-1</td>\n",
              "      <td>1</td>\n",
              "      <td>-1</td>\n",
              "      <td>1</td>\n",
              "      <td>0</td>\n",
              "      <td>-1</td>\n",
              "      <td>-1</td>\n",
              "    </tr>\n",
              "    <tr>\n",
              "      <th>3</th>\n",
              "      <td>4</td>\n",
              "      <td>1</td>\n",
              "      <td>0</td>\n",
              "      <td>1</td>\n",
              "      <td>1</td>\n",
              "      <td>1</td>\n",
              "      <td>-1</td>\n",
              "      <td>-1</td>\n",
              "      <td>-1</td>\n",
              "      <td>1</td>\n",
              "      <td>...</td>\n",
              "      <td>1</td>\n",
              "      <td>1</td>\n",
              "      <td>-1</td>\n",
              "      <td>-1</td>\n",
              "      <td>1</td>\n",
              "      <td>-1</td>\n",
              "      <td>1</td>\n",
              "      <td>-1</td>\n",
              "      <td>1</td>\n",
              "      <td>-1</td>\n",
              "    </tr>\n",
              "    <tr>\n",
              "      <th>4</th>\n",
              "      <td>5</td>\n",
              "      <td>1</td>\n",
              "      <td>0</td>\n",
              "      <td>-1</td>\n",
              "      <td>1</td>\n",
              "      <td>1</td>\n",
              "      <td>-1</td>\n",
              "      <td>1</td>\n",
              "      <td>1</td>\n",
              "      <td>-1</td>\n",
              "      <td>...</td>\n",
              "      <td>-1</td>\n",
              "      <td>1</td>\n",
              "      <td>-1</td>\n",
              "      <td>-1</td>\n",
              "      <td>0</td>\n",
              "      <td>-1</td>\n",
              "      <td>1</td>\n",
              "      <td>1</td>\n",
              "      <td>1</td>\n",
              "      <td>1</td>\n",
              "    </tr>\n",
              "  </tbody>\n",
              "</table>\n",
              "<p>5 rows × 32 columns</p>\n",
              "</div>\n",
              "      <button class=\"colab-df-convert\" onclick=\"convertToInteractive('df-822c3d70-ff32-4b90-80fa-302158f370d7')\"\n",
              "              title=\"Convert this dataframe to an interactive table.\"\n",
              "              style=\"display:none;\">\n",
              "        \n",
              "  <svg xmlns=\"http://www.w3.org/2000/svg\" height=\"24px\"viewBox=\"0 0 24 24\"\n",
              "       width=\"24px\">\n",
              "    <path d=\"M0 0h24v24H0V0z\" fill=\"none\"/>\n",
              "    <path d=\"M18.56 5.44l.94 2.06.94-2.06 2.06-.94-2.06-.94-.94-2.06-.94 2.06-2.06.94zm-11 1L8.5 8.5l.94-2.06 2.06-.94-2.06-.94L8.5 2.5l-.94 2.06-2.06.94zm10 10l.94 2.06.94-2.06 2.06-.94-2.06-.94-.94-2.06-.94 2.06-2.06.94z\"/><path d=\"M17.41 7.96l-1.37-1.37c-.4-.4-.92-.59-1.43-.59-.52 0-1.04.2-1.43.59L10.3 9.45l-7.72 7.72c-.78.78-.78 2.05 0 2.83L4 21.41c.39.39.9.59 1.41.59.51 0 1.02-.2 1.41-.59l7.78-7.78 2.81-2.81c.8-.78.8-2.07 0-2.86zM5.41 20L4 18.59l7.72-7.72 1.47 1.35L5.41 20z\"/>\n",
              "  </svg>\n",
              "      </button>\n",
              "      \n",
              "  <style>\n",
              "    .colab-df-container {\n",
              "      display:flex;\n",
              "      flex-wrap:wrap;\n",
              "      gap: 12px;\n",
              "    }\n",
              "\n",
              "    .colab-df-convert {\n",
              "      background-color: #E8F0FE;\n",
              "      border: none;\n",
              "      border-radius: 50%;\n",
              "      cursor: pointer;\n",
              "      display: none;\n",
              "      fill: #1967D2;\n",
              "      height: 32px;\n",
              "      padding: 0 0 0 0;\n",
              "      width: 32px;\n",
              "    }\n",
              "\n",
              "    .colab-df-convert:hover {\n",
              "      background-color: #E2EBFA;\n",
              "      box-shadow: 0px 1px 2px rgba(60, 64, 67, 0.3), 0px 1px 3px 1px rgba(60, 64, 67, 0.15);\n",
              "      fill: #174EA6;\n",
              "    }\n",
              "\n",
              "    [theme=dark] .colab-df-convert {\n",
              "      background-color: #3B4455;\n",
              "      fill: #D2E3FC;\n",
              "    }\n",
              "\n",
              "    [theme=dark] .colab-df-convert:hover {\n",
              "      background-color: #434B5C;\n",
              "      box-shadow: 0px 1px 3px 1px rgba(0, 0, 0, 0.15);\n",
              "      filter: drop-shadow(0px 1px 2px rgba(0, 0, 0, 0.3));\n",
              "      fill: #FFFFFF;\n",
              "    }\n",
              "  </style>\n",
              "\n",
              "      <script>\n",
              "        const buttonEl =\n",
              "          document.querySelector('#df-822c3d70-ff32-4b90-80fa-302158f370d7 button.colab-df-convert');\n",
              "        buttonEl.style.display =\n",
              "          google.colab.kernel.accessAllowed ? 'block' : 'none';\n",
              "\n",
              "        async function convertToInteractive(key) {\n",
              "          const element = document.querySelector('#df-822c3d70-ff32-4b90-80fa-302158f370d7');\n",
              "          const dataTable =\n",
              "            await google.colab.kernel.invokeFunction('convertToInteractive',\n",
              "                                                     [key], {});\n",
              "          if (!dataTable) return;\n",
              "\n",
              "          const docLinkHtml = 'Like what you see? Visit the ' +\n",
              "            '<a target=\"_blank\" href=https://colab.research.google.com/notebooks/data_table.ipynb>data table notebook</a>'\n",
              "            + ' to learn more about interactive tables.';\n",
              "          element.innerHTML = '';\n",
              "          dataTable['output_type'] = 'display_data';\n",
              "          await google.colab.output.renderOutput(dataTable, element);\n",
              "          const docLink = document.createElement('div');\n",
              "          docLink.innerHTML = docLinkHtml;\n",
              "          element.appendChild(docLink);\n",
              "        }\n",
              "      </script>\n",
              "    </div>\n",
              "  </div>\n",
              "  "
            ]
          },
          "metadata": {},
          "execution_count": 4
        }
      ],
      "source": [
        "df.head()"
      ]
    },
    {
      "cell_type": "code",
      "execution_count": null,
      "metadata": {
        "colab": {
          "base_uri": "https://localhost:8080/"
        },
        "id": "napQQz96lfIb",
        "outputId": "1d5b97c9-6eee-4cea-ad0a-67253652c7f2"
      },
      "outputs": [
        {
          "output_type": "stream",
          "name": "stdout",
          "text": [
            "6157\n",
            "4898\n"
          ]
        }
      ],
      "source": [
        "print(len(df[df.Result==1]))\n",
        "print(len(df[df.Result==-1]))"
      ]
    },
    {
      "cell_type": "code",
      "execution_count": null,
      "metadata": {
        "colab": {
          "base_uri": "https://localhost:8080/"
        },
        "id": "gfS_BNfKlolI",
        "outputId": "33481531-2312-4e10-a5d4-9b22f7c27b76"
      },
      "outputs": [
        {
          "output_type": "stream",
          "name": "stdout",
          "text": [
            "<class 'pandas.core.frame.DataFrame'>\n",
            "RangeIndex: 11055 entries, 0 to 11054\n",
            "Data columns (total 32 columns):\n",
            " #   Column                       Non-Null Count  Dtype\n",
            "---  ------                       --------------  -----\n",
            " 0   id                           11055 non-null  int64\n",
            " 1   having_IP_Address            11055 non-null  int64\n",
            " 2   URL_Length                   11055 non-null  int64\n",
            " 3   Shortining_Service           11055 non-null  int64\n",
            " 4   having_At_Symbol             11055 non-null  int64\n",
            " 5   double_slash_redirecting     11055 non-null  int64\n",
            " 6   Prefix_Suffix                11055 non-null  int64\n",
            " 7   having_Sub_Domain            11055 non-null  int64\n",
            " 8   SSLfinal_State               11055 non-null  int64\n",
            " 9   Domain_registeration_length  11055 non-null  int64\n",
            " 10  Favicon                      11055 non-null  int64\n",
            " 11  port                         11055 non-null  int64\n",
            " 12  HTTPS_token                  11055 non-null  int64\n",
            " 13  Request_URL                  11055 non-null  int64\n",
            " 14  URL_of_Anchor                11055 non-null  int64\n",
            " 15  Links_in_tags                11055 non-null  int64\n",
            " 16  SFH                          11055 non-null  int64\n",
            " 17  Submitting_to_email          11055 non-null  int64\n",
            " 18  Abnormal_URL                 11055 non-null  int64\n",
            " 19  Redirect                     11055 non-null  int64\n",
            " 20  on_mouseover                 11055 non-null  int64\n",
            " 21  RightClick                   11055 non-null  int64\n",
            " 22  popUpWidnow                  11055 non-null  int64\n",
            " 23  Iframe                       11055 non-null  int64\n",
            " 24  age_of_domain                11055 non-null  int64\n",
            " 25  DNSRecord                    11055 non-null  int64\n",
            " 26  web_traffic                  11055 non-null  int64\n",
            " 27  Page_Rank                    11055 non-null  int64\n",
            " 28  Google_Index                 11055 non-null  int64\n",
            " 29  Links_pointing_to_page       11055 non-null  int64\n",
            " 30  Statistical_report           11055 non-null  int64\n",
            " 31  Result                       11055 non-null  int64\n",
            "dtypes: int64(32)\n",
            "memory usage: 2.7 MB\n"
          ]
        }
      ],
      "source": [
        "df.info()"
      ]
    },
    {
      "cell_type": "code",
      "execution_count": null,
      "metadata": {
        "colab": {
          "base_uri": "https://localhost:8080/"
        },
        "id": "eexWEG3RmFse",
        "outputId": "75ad46dc-afb9-4903-9c7c-0a2d8f44abac"
      },
      "outputs": [
        {
          "output_type": "execute_result",
          "data": {
            "text/plain": [
              "id                             0\n",
              "having_IP_Address              0\n",
              "URL_Length                     0\n",
              "Shortining_Service             0\n",
              "having_At_Symbol               0\n",
              "double_slash_redirecting       0\n",
              "Prefix_Suffix                  0\n",
              "having_Sub_Domain              0\n",
              "SSLfinal_State                 0\n",
              "Domain_registeration_length    0\n",
              "Favicon                        0\n",
              "port                           0\n",
              "HTTPS_token                    0\n",
              "Request_URL                    0\n",
              "URL_of_Anchor                  0\n",
              "Links_in_tags                  0\n",
              "SFH                            0\n",
              "Submitting_to_email            0\n",
              "Abnormal_URL                   0\n",
              "Redirect                       0\n",
              "on_mouseover                   0\n",
              "RightClick                     0\n",
              "popUpWidnow                    0\n",
              "Iframe                         0\n",
              "age_of_domain                  0\n",
              "DNSRecord                      0\n",
              "web_traffic                    0\n",
              "Page_Rank                      0\n",
              "Google_Index                   0\n",
              "Links_pointing_to_page         0\n",
              "Statistical_report             0\n",
              "Result                         0\n",
              "dtype: int64"
            ]
          },
          "metadata": {},
          "execution_count": 7
        }
      ],
      "source": [
        "df.isnull().sum()"
      ]
    },
    {
      "cell_type": "code",
      "source": [
        "df.rename(columns={'Result': 'Class'}, inplace=True)\n",
        "\n",
        "df['Class'] = df['Class'].map({-1:0, 1:1})\n",
        "df['Class'].unique()"
      ],
      "metadata": {
        "colab": {
          "base_uri": "https://localhost:8080/"
        },
        "id": "WdgmbIPwfqnu",
        "outputId": "112635c9-81ce-4fd6-857a-bd9a0b57f2c7"
      },
      "execution_count": null,
      "outputs": [
        {
          "output_type": "execute_result",
          "data": {
            "text/plain": [
              "array([0, 1])"
            ]
          },
          "metadata": {},
          "execution_count": 8
        }
      ]
    },
    {
      "cell_type": "code",
      "execution_count": null,
      "metadata": {
        "id": "8kxLLLhWmLBL"
      },
      "outputs": [],
      "source": [
        "x=df.iloc[:,:-1]\n",
        "y=df.iloc[:,-1:]"
      ]
    },
    {
      "cell_type": "code",
      "execution_count": null,
      "metadata": {
        "id": "dHTlbwdKniWr"
      },
      "outputs": [],
      "source": [
        "from sklearn.model_selection import train_test_split\n",
        "X_train, X_test, y_train, y_test = train_test_split(x, y, test_size = 0.2)"
      ]
    },
    {
      "cell_type": "code",
      "execution_count": null,
      "metadata": {
        "colab": {
          "base_uri": "https://localhost:8080/",
          "height": 423
        },
        "id": "sbTaIjpeoIsz",
        "outputId": "1969bcbb-c664-46db-f287-e71864a82ee8"
      },
      "outputs": [
        {
          "output_type": "execute_result",
          "data": {
            "text/plain": [
              "      Class\n",
              "3361      1\n",
              "6009      1\n",
              "9318      1\n",
              "424       1\n",
              "660       0\n",
              "...     ...\n",
              "6359      1\n",
              "2186      1\n",
              "697       1\n",
              "6549      1\n",
              "5752      1\n",
              "\n",
              "[8844 rows x 1 columns]"
            ],
            "text/html": [
              "\n",
              "  <div id=\"df-c75547d3-0c0c-47bd-ac1f-1984c94c6159\">\n",
              "    <div class=\"colab-df-container\">\n",
              "      <div>\n",
              "<style scoped>\n",
              "    .dataframe tbody tr th:only-of-type {\n",
              "        vertical-align: middle;\n",
              "    }\n",
              "\n",
              "    .dataframe tbody tr th {\n",
              "        vertical-align: top;\n",
              "    }\n",
              "\n",
              "    .dataframe thead th {\n",
              "        text-align: right;\n",
              "    }\n",
              "</style>\n",
              "<table border=\"1\" class=\"dataframe\">\n",
              "  <thead>\n",
              "    <tr style=\"text-align: right;\">\n",
              "      <th></th>\n",
              "      <th>Class</th>\n",
              "    </tr>\n",
              "  </thead>\n",
              "  <tbody>\n",
              "    <tr>\n",
              "      <th>3361</th>\n",
              "      <td>1</td>\n",
              "    </tr>\n",
              "    <tr>\n",
              "      <th>6009</th>\n",
              "      <td>1</td>\n",
              "    </tr>\n",
              "    <tr>\n",
              "      <th>9318</th>\n",
              "      <td>1</td>\n",
              "    </tr>\n",
              "    <tr>\n",
              "      <th>424</th>\n",
              "      <td>1</td>\n",
              "    </tr>\n",
              "    <tr>\n",
              "      <th>660</th>\n",
              "      <td>0</td>\n",
              "    </tr>\n",
              "    <tr>\n",
              "      <th>...</th>\n",
              "      <td>...</td>\n",
              "    </tr>\n",
              "    <tr>\n",
              "      <th>6359</th>\n",
              "      <td>1</td>\n",
              "    </tr>\n",
              "    <tr>\n",
              "      <th>2186</th>\n",
              "      <td>1</td>\n",
              "    </tr>\n",
              "    <tr>\n",
              "      <th>697</th>\n",
              "      <td>1</td>\n",
              "    </tr>\n",
              "    <tr>\n",
              "      <th>6549</th>\n",
              "      <td>1</td>\n",
              "    </tr>\n",
              "    <tr>\n",
              "      <th>5752</th>\n",
              "      <td>1</td>\n",
              "    </tr>\n",
              "  </tbody>\n",
              "</table>\n",
              "<p>8844 rows × 1 columns</p>\n",
              "</div>\n",
              "      <button class=\"colab-df-convert\" onclick=\"convertToInteractive('df-c75547d3-0c0c-47bd-ac1f-1984c94c6159')\"\n",
              "              title=\"Convert this dataframe to an interactive table.\"\n",
              "              style=\"display:none;\">\n",
              "        \n",
              "  <svg xmlns=\"http://www.w3.org/2000/svg\" height=\"24px\"viewBox=\"0 0 24 24\"\n",
              "       width=\"24px\">\n",
              "    <path d=\"M0 0h24v24H0V0z\" fill=\"none\"/>\n",
              "    <path d=\"M18.56 5.44l.94 2.06.94-2.06 2.06-.94-2.06-.94-.94-2.06-.94 2.06-2.06.94zm-11 1L8.5 8.5l.94-2.06 2.06-.94-2.06-.94L8.5 2.5l-.94 2.06-2.06.94zm10 10l.94 2.06.94-2.06 2.06-.94-2.06-.94-.94-2.06-.94 2.06-2.06.94z\"/><path d=\"M17.41 7.96l-1.37-1.37c-.4-.4-.92-.59-1.43-.59-.52 0-1.04.2-1.43.59L10.3 9.45l-7.72 7.72c-.78.78-.78 2.05 0 2.83L4 21.41c.39.39.9.59 1.41.59.51 0 1.02-.2 1.41-.59l7.78-7.78 2.81-2.81c.8-.78.8-2.07 0-2.86zM5.41 20L4 18.59l7.72-7.72 1.47 1.35L5.41 20z\"/>\n",
              "  </svg>\n",
              "      </button>\n",
              "      \n",
              "  <style>\n",
              "    .colab-df-container {\n",
              "      display:flex;\n",
              "      flex-wrap:wrap;\n",
              "      gap: 12px;\n",
              "    }\n",
              "\n",
              "    .colab-df-convert {\n",
              "      background-color: #E8F0FE;\n",
              "      border: none;\n",
              "      border-radius: 50%;\n",
              "      cursor: pointer;\n",
              "      display: none;\n",
              "      fill: #1967D2;\n",
              "      height: 32px;\n",
              "      padding: 0 0 0 0;\n",
              "      width: 32px;\n",
              "    }\n",
              "\n",
              "    .colab-df-convert:hover {\n",
              "      background-color: #E2EBFA;\n",
              "      box-shadow: 0px 1px 2px rgba(60, 64, 67, 0.3), 0px 1px 3px 1px rgba(60, 64, 67, 0.15);\n",
              "      fill: #174EA6;\n",
              "    }\n",
              "\n",
              "    [theme=dark] .colab-df-convert {\n",
              "      background-color: #3B4455;\n",
              "      fill: #D2E3FC;\n",
              "    }\n",
              "\n",
              "    [theme=dark] .colab-df-convert:hover {\n",
              "      background-color: #434B5C;\n",
              "      box-shadow: 0px 1px 3px 1px rgba(0, 0, 0, 0.15);\n",
              "      filter: drop-shadow(0px 1px 2px rgba(0, 0, 0, 0.3));\n",
              "      fill: #FFFFFF;\n",
              "    }\n",
              "  </style>\n",
              "\n",
              "      <script>\n",
              "        const buttonEl =\n",
              "          document.querySelector('#df-c75547d3-0c0c-47bd-ac1f-1984c94c6159 button.colab-df-convert');\n",
              "        buttonEl.style.display =\n",
              "          google.colab.kernel.accessAllowed ? 'block' : 'none';\n",
              "\n",
              "        async function convertToInteractive(key) {\n",
              "          const element = document.querySelector('#df-c75547d3-0c0c-47bd-ac1f-1984c94c6159');\n",
              "          const dataTable =\n",
              "            await google.colab.kernel.invokeFunction('convertToInteractive',\n",
              "                                                     [key], {});\n",
              "          if (!dataTable) return;\n",
              "\n",
              "          const docLinkHtml = 'Like what you see? Visit the ' +\n",
              "            '<a target=\"_blank\" href=https://colab.research.google.com/notebooks/data_table.ipynb>data table notebook</a>'\n",
              "            + ' to learn more about interactive tables.';\n",
              "          element.innerHTML = '';\n",
              "          dataTable['output_type'] = 'display_data';\n",
              "          await google.colab.output.renderOutput(dataTable, element);\n",
              "          const docLink = document.createElement('div');\n",
              "          docLink.innerHTML = docLinkHtml;\n",
              "          element.appendChild(docLink);\n",
              "        }\n",
              "      </script>\n",
              "    </div>\n",
              "  </div>\n",
              "  "
            ]
          },
          "metadata": {},
          "execution_count": 12
        }
      ],
      "source": [
        "y_train"
      ]
    },
    {
      "cell_type": "markdown",
      "source": [
        "# **Random Forest**"
      ],
      "metadata": {
        "id": "HCUY5Hw3kOqH"
      }
    },
    {
      "cell_type": "code",
      "execution_count": null,
      "metadata": {
        "id": "bBIWBDxInsr8",
        "colab": {
          "base_uri": "https://localhost:8080/",
          "height": 406
        },
        "outputId": "e278c9c2-5d96-4ed5-f637-59c71334623a"
      },
      "outputs": [
        {
          "output_type": "execute_result",
          "data": {
            "text/plain": [
              "   mean_fit_time  std_fit_time  mean_score_time  std_score_time  \\\n",
              "0       1.063950      0.009443         0.083802        0.001827   \n",
              "1       1.601261      0.011089         0.124811        0.002031   \n",
              "2       2.133989      0.007711         0.165468        0.002522   \n",
              "3       2.710056      0.036078         0.212472        0.004396   \n",
              "4       3.248474      0.014033         0.249023        0.003462   \n",
              "5       4.321914      0.022793         0.338107        0.012507   \n",
              "\n",
              "  param_n_estimators                 params  split0_test_score  \\\n",
              "0                200  {'n_estimators': 200}           0.963821   \n",
              "1                300  {'n_estimators': 300}           0.963821   \n",
              "2                400  {'n_estimators': 400}           0.962691   \n",
              "3                500  {'n_estimators': 500}           0.962125   \n",
              "4                600  {'n_estimators': 600}           0.964387   \n",
              "5                800  {'n_estimators': 800}           0.962691   \n",
              "\n",
              "   split1_test_score  split2_test_score  split3_test_score  split4_test_score  \\\n",
              "0           0.971170           0.963821           0.976258           0.961538   \n",
              "1           0.973431           0.964952           0.976258           0.959276   \n",
              "2           0.973431           0.963821           0.975692           0.959842   \n",
              "3           0.971735           0.966083           0.977388           0.958710   \n",
              "4           0.972866           0.964387           0.976823           0.959276   \n",
              "5           0.972301           0.965517           0.976823           0.958145   \n",
              "\n",
              "   mean_test_score  std_test_score  rank_test_score  \n",
              "0         0.967322        0.005525                3  \n",
              "1         0.967548        0.006317                1  \n",
              "2         0.967096        0.006274                5  \n",
              "3         0.967208        0.006685                4  \n",
              "4         0.967548        0.006367                1  \n",
              "5         0.967095        0.006689                6  "
            ],
            "text/html": [
              "\n",
              "  <div id=\"df-78f5cf5c-3266-4f8c-9480-0f6c0575063f\">\n",
              "    <div class=\"colab-df-container\">\n",
              "      <div>\n",
              "<style scoped>\n",
              "    .dataframe tbody tr th:only-of-type {\n",
              "        vertical-align: middle;\n",
              "    }\n",
              "\n",
              "    .dataframe tbody tr th {\n",
              "        vertical-align: top;\n",
              "    }\n",
              "\n",
              "    .dataframe thead th {\n",
              "        text-align: right;\n",
              "    }\n",
              "</style>\n",
              "<table border=\"1\" class=\"dataframe\">\n",
              "  <thead>\n",
              "    <tr style=\"text-align: right;\">\n",
              "      <th></th>\n",
              "      <th>mean_fit_time</th>\n",
              "      <th>std_fit_time</th>\n",
              "      <th>mean_score_time</th>\n",
              "      <th>std_score_time</th>\n",
              "      <th>param_n_estimators</th>\n",
              "      <th>params</th>\n",
              "      <th>split0_test_score</th>\n",
              "      <th>split1_test_score</th>\n",
              "      <th>split2_test_score</th>\n",
              "      <th>split3_test_score</th>\n",
              "      <th>split4_test_score</th>\n",
              "      <th>mean_test_score</th>\n",
              "      <th>std_test_score</th>\n",
              "      <th>rank_test_score</th>\n",
              "    </tr>\n",
              "  </thead>\n",
              "  <tbody>\n",
              "    <tr>\n",
              "      <th>0</th>\n",
              "      <td>1.063950</td>\n",
              "      <td>0.009443</td>\n",
              "      <td>0.083802</td>\n",
              "      <td>0.001827</td>\n",
              "      <td>200</td>\n",
              "      <td>{'n_estimators': 200}</td>\n",
              "      <td>0.963821</td>\n",
              "      <td>0.971170</td>\n",
              "      <td>0.963821</td>\n",
              "      <td>0.976258</td>\n",
              "      <td>0.961538</td>\n",
              "      <td>0.967322</td>\n",
              "      <td>0.005525</td>\n",
              "      <td>3</td>\n",
              "    </tr>\n",
              "    <tr>\n",
              "      <th>1</th>\n",
              "      <td>1.601261</td>\n",
              "      <td>0.011089</td>\n",
              "      <td>0.124811</td>\n",
              "      <td>0.002031</td>\n",
              "      <td>300</td>\n",
              "      <td>{'n_estimators': 300}</td>\n",
              "      <td>0.963821</td>\n",
              "      <td>0.973431</td>\n",
              "      <td>0.964952</td>\n",
              "      <td>0.976258</td>\n",
              "      <td>0.959276</td>\n",
              "      <td>0.967548</td>\n",
              "      <td>0.006317</td>\n",
              "      <td>1</td>\n",
              "    </tr>\n",
              "    <tr>\n",
              "      <th>2</th>\n",
              "      <td>2.133989</td>\n",
              "      <td>0.007711</td>\n",
              "      <td>0.165468</td>\n",
              "      <td>0.002522</td>\n",
              "      <td>400</td>\n",
              "      <td>{'n_estimators': 400}</td>\n",
              "      <td>0.962691</td>\n",
              "      <td>0.973431</td>\n",
              "      <td>0.963821</td>\n",
              "      <td>0.975692</td>\n",
              "      <td>0.959842</td>\n",
              "      <td>0.967096</td>\n",
              "      <td>0.006274</td>\n",
              "      <td>5</td>\n",
              "    </tr>\n",
              "    <tr>\n",
              "      <th>3</th>\n",
              "      <td>2.710056</td>\n",
              "      <td>0.036078</td>\n",
              "      <td>0.212472</td>\n",
              "      <td>0.004396</td>\n",
              "      <td>500</td>\n",
              "      <td>{'n_estimators': 500}</td>\n",
              "      <td>0.962125</td>\n",
              "      <td>0.971735</td>\n",
              "      <td>0.966083</td>\n",
              "      <td>0.977388</td>\n",
              "      <td>0.958710</td>\n",
              "      <td>0.967208</td>\n",
              "      <td>0.006685</td>\n",
              "      <td>4</td>\n",
              "    </tr>\n",
              "    <tr>\n",
              "      <th>4</th>\n",
              "      <td>3.248474</td>\n",
              "      <td>0.014033</td>\n",
              "      <td>0.249023</td>\n",
              "      <td>0.003462</td>\n",
              "      <td>600</td>\n",
              "      <td>{'n_estimators': 600}</td>\n",
              "      <td>0.964387</td>\n",
              "      <td>0.972866</td>\n",
              "      <td>0.964387</td>\n",
              "      <td>0.976823</td>\n",
              "      <td>0.959276</td>\n",
              "      <td>0.967548</td>\n",
              "      <td>0.006367</td>\n",
              "      <td>1</td>\n",
              "    </tr>\n",
              "    <tr>\n",
              "      <th>5</th>\n",
              "      <td>4.321914</td>\n",
              "      <td>0.022793</td>\n",
              "      <td>0.338107</td>\n",
              "      <td>0.012507</td>\n",
              "      <td>800</td>\n",
              "      <td>{'n_estimators': 800}</td>\n",
              "      <td>0.962691</td>\n",
              "      <td>0.972301</td>\n",
              "      <td>0.965517</td>\n",
              "      <td>0.976823</td>\n",
              "      <td>0.958145</td>\n",
              "      <td>0.967095</td>\n",
              "      <td>0.006689</td>\n",
              "      <td>6</td>\n",
              "    </tr>\n",
              "  </tbody>\n",
              "</table>\n",
              "</div>\n",
              "      <button class=\"colab-df-convert\" onclick=\"convertToInteractive('df-78f5cf5c-3266-4f8c-9480-0f6c0575063f')\"\n",
              "              title=\"Convert this dataframe to an interactive table.\"\n",
              "              style=\"display:none;\">\n",
              "        \n",
              "  <svg xmlns=\"http://www.w3.org/2000/svg\" height=\"24px\"viewBox=\"0 0 24 24\"\n",
              "       width=\"24px\">\n",
              "    <path d=\"M0 0h24v24H0V0z\" fill=\"none\"/>\n",
              "    <path d=\"M18.56 5.44l.94 2.06.94-2.06 2.06-.94-2.06-.94-.94-2.06-.94 2.06-2.06.94zm-11 1L8.5 8.5l.94-2.06 2.06-.94-2.06-.94L8.5 2.5l-.94 2.06-2.06.94zm10 10l.94 2.06.94-2.06 2.06-.94-2.06-.94-.94-2.06-.94 2.06-2.06.94z\"/><path d=\"M17.41 7.96l-1.37-1.37c-.4-.4-.92-.59-1.43-.59-.52 0-1.04.2-1.43.59L10.3 9.45l-7.72 7.72c-.78.78-.78 2.05 0 2.83L4 21.41c.39.39.9.59 1.41.59.51 0 1.02-.2 1.41-.59l7.78-7.78 2.81-2.81c.8-.78.8-2.07 0-2.86zM5.41 20L4 18.59l7.72-7.72 1.47 1.35L5.41 20z\"/>\n",
              "  </svg>\n",
              "      </button>\n",
              "      \n",
              "  <style>\n",
              "    .colab-df-container {\n",
              "      display:flex;\n",
              "      flex-wrap:wrap;\n",
              "      gap: 12px;\n",
              "    }\n",
              "\n",
              "    .colab-df-convert {\n",
              "      background-color: #E8F0FE;\n",
              "      border: none;\n",
              "      border-radius: 50%;\n",
              "      cursor: pointer;\n",
              "      display: none;\n",
              "      fill: #1967D2;\n",
              "      height: 32px;\n",
              "      padding: 0 0 0 0;\n",
              "      width: 32px;\n",
              "    }\n",
              "\n",
              "    .colab-df-convert:hover {\n",
              "      background-color: #E2EBFA;\n",
              "      box-shadow: 0px 1px 2px rgba(60, 64, 67, 0.3), 0px 1px 3px 1px rgba(60, 64, 67, 0.15);\n",
              "      fill: #174EA6;\n",
              "    }\n",
              "\n",
              "    [theme=dark] .colab-df-convert {\n",
              "      background-color: #3B4455;\n",
              "      fill: #D2E3FC;\n",
              "    }\n",
              "\n",
              "    [theme=dark] .colab-df-convert:hover {\n",
              "      background-color: #434B5C;\n",
              "      box-shadow: 0px 1px 3px 1px rgba(0, 0, 0, 0.15);\n",
              "      filter: drop-shadow(0px 1px 2px rgba(0, 0, 0, 0.3));\n",
              "      fill: #FFFFFF;\n",
              "    }\n",
              "  </style>\n",
              "\n",
              "      <script>\n",
              "        const buttonEl =\n",
              "          document.querySelector('#df-78f5cf5c-3266-4f8c-9480-0f6c0575063f button.colab-df-convert');\n",
              "        buttonEl.style.display =\n",
              "          google.colab.kernel.accessAllowed ? 'block' : 'none';\n",
              "\n",
              "        async function convertToInteractive(key) {\n",
              "          const element = document.querySelector('#df-78f5cf5c-3266-4f8c-9480-0f6c0575063f');\n",
              "          const dataTable =\n",
              "            await google.colab.kernel.invokeFunction('convertToInteractive',\n",
              "                                                     [key], {});\n",
              "          if (!dataTable) return;\n",
              "\n",
              "          const docLinkHtml = 'Like what you see? Visit the ' +\n",
              "            '<a target=\"_blank\" href=https://colab.research.google.com/notebooks/data_table.ipynb>data table notebook</a>'\n",
              "            + ' to learn more about interactive tables.';\n",
              "          element.innerHTML = '';\n",
              "          dataTable['output_type'] = 'display_data';\n",
              "          await google.colab.output.renderOutput(dataTable, element);\n",
              "          const docLink = document.createElement('div');\n",
              "          docLink.innerHTML = docLinkHtml;\n",
              "          element.appendChild(docLink);\n",
              "        }\n",
              "      </script>\n",
              "    </div>\n",
              "  </div>\n",
              "  "
            ]
          },
          "metadata": {},
          "execution_count": 41
        }
      ],
      "source": [
        "from sklearn.model_selection import GridSearchCV\n",
        "from sklearn.ensemble import RandomForestClassifier\n",
        "\n",
        "rfc = RandomForestClassifier()\n",
        "clf = GridSearchCV(rfc,{\n",
        "      # 'bootstrap': [True, False],\n",
        "      # 'max_depth': [10, 20, 30, 40],\n",
        "      # 'max_features': ['auto', 'sqrt'],\n",
        "      # 'min_samples_leaf': [1, 2, 4],\n",
        "      # 'min_samples_split': [2, 5, 10],\n",
        "      'n_estimators': [200,300, 400,500, 600, 800],\n",
        "}, cv=5, return_train_score = False)\n",
        "\n",
        "clf.fit(X_train, y_train.values.ravel())\n",
        "res=pd.DataFrame(clf.cv_results_)\n",
        "res"
      ]
    },
    {
      "cell_type": "code",
      "execution_count": null,
      "metadata": {
        "colab": {
          "base_uri": "https://localhost:8080/"
        },
        "id": "SskZ2gyaoCuW",
        "outputId": "1aef680d-905e-4594-ce76-6ebfd6df4306"
      },
      "outputs": [
        {
          "output_type": "execute_result",
          "data": {
            "text/plain": [
              "0.9656264133876075"
            ]
          },
          "metadata": {},
          "execution_count": 46
        }
      ],
      "source": [
        "from sklearn.ensemble import RandomForestClassifier\n",
        "rfc_best = RandomForestClassifier(n_estimators=300)\n",
        "rfc_best.fit(X_train,y_train.values.ravel())\n",
        "rfc_best.score(X_test,y_test)"
      ]
    },
    {
      "cell_type": "markdown",
      "source": [
        "## **Logistic Regression**"
      ],
      "metadata": {
        "id": "5wAntybakWRG"
      }
    },
    {
      "cell_type": "code",
      "execution_count": null,
      "metadata": {
        "colab": {
          "base_uri": "https://localhost:8080/",
          "height": 760
        },
        "id": "xiE4ejX-QGN8",
        "outputId": "bf9231cf-0a51-4978-aff3-12e38e8a623f"
      },
      "outputs": [
        {
          "output_type": "execute_result",
          "data": {
            "text/plain": [
              "   mean_fit_time  std_fit_time  mean_score_time  std_score_time param_C  \\\n",
              "0       0.340382      0.147022         0.003319        0.000052     0.1   \n",
              "1       0.344806      0.143476         0.003415        0.000104     0.1   \n",
              "2       0.341060      0.130391         0.003405        0.000108     0.1   \n",
              "3       0.427926      0.086172         0.003380        0.000051       1   \n",
              "4       0.431364      0.088071         0.003541        0.000372       1   \n",
              "5       0.436673      0.096581         0.003352        0.000067       1   \n",
              "6       0.365915      0.156989         0.005147        0.003414      10   \n",
              "7       0.363500      0.164511         0.003696        0.000287      10   \n",
              "8       0.369082      0.157257         0.003494        0.000212      10   \n",
              "\n",
              "  param_tol                  params  split0_test_score  split1_test_score  \\\n",
              "0       0.1  {'C': 0.1, 'tol': 0.1}           0.927077           0.931600   \n",
              "1         1    {'C': 0.1, 'tol': 1}           0.927077           0.931600   \n",
              "2        10   {'C': 0.1, 'tol': 10}           0.927077           0.931600   \n",
              "3       0.1    {'C': 1, 'tol': 0.1}           0.926512           0.929339   \n",
              "4         1      {'C': 1, 'tol': 1}           0.926512           0.929339   \n",
              "5        10     {'C': 1, 'tol': 10}           0.926512           0.929339   \n",
              "6       0.1   {'C': 10, 'tol': 0.1}           0.928208           0.929904   \n",
              "7         1     {'C': 10, 'tol': 1}           0.928208           0.929904   \n",
              "8        10    {'C': 10, 'tol': 10}           0.928208           0.929904   \n",
              "\n",
              "   split2_test_score  split3_test_score  split4_test_score  mean_test_score  \\\n",
              "0           0.923120           0.941775           0.909502         0.926615   \n",
              "1           0.923120           0.941775           0.909502         0.926615   \n",
              "2           0.923120           0.941775           0.909502         0.926615   \n",
              "3           0.918598           0.939514           0.915724         0.925937   \n",
              "4           0.918598           0.939514           0.915724         0.925937   \n",
              "5           0.918598           0.939514           0.915724         0.925937   \n",
              "6           0.918033           0.938949           0.911765         0.925372   \n",
              "7           0.918033           0.938949           0.911765         0.925372   \n",
              "8           0.918033           0.938949           0.911765         0.925372   \n",
              "\n",
              "   std_test_score  rank_test_score  \n",
              "0        0.010582                1  \n",
              "1        0.010582                1  \n",
              "2        0.010582                1  \n",
              "3        0.008419                4  \n",
              "4        0.008419                4  \n",
              "5        0.008419                4  \n",
              "6        0.009507                7  \n",
              "7        0.009507                7  \n",
              "8        0.009507                7  "
            ],
            "text/html": [
              "\n",
              "  <div id=\"df-1f0c7c0c-3b12-4556-a1c7-bfdab7252f63\">\n",
              "    <div class=\"colab-df-container\">\n",
              "      <div>\n",
              "<style scoped>\n",
              "    .dataframe tbody tr th:only-of-type {\n",
              "        vertical-align: middle;\n",
              "    }\n",
              "\n",
              "    .dataframe tbody tr th {\n",
              "        vertical-align: top;\n",
              "    }\n",
              "\n",
              "    .dataframe thead th {\n",
              "        text-align: right;\n",
              "    }\n",
              "</style>\n",
              "<table border=\"1\" class=\"dataframe\">\n",
              "  <thead>\n",
              "    <tr style=\"text-align: right;\">\n",
              "      <th></th>\n",
              "      <th>mean_fit_time</th>\n",
              "      <th>std_fit_time</th>\n",
              "      <th>mean_score_time</th>\n",
              "      <th>std_score_time</th>\n",
              "      <th>param_C</th>\n",
              "      <th>param_tol</th>\n",
              "      <th>params</th>\n",
              "      <th>split0_test_score</th>\n",
              "      <th>split1_test_score</th>\n",
              "      <th>split2_test_score</th>\n",
              "      <th>split3_test_score</th>\n",
              "      <th>split4_test_score</th>\n",
              "      <th>mean_test_score</th>\n",
              "      <th>std_test_score</th>\n",
              "      <th>rank_test_score</th>\n",
              "    </tr>\n",
              "  </thead>\n",
              "  <tbody>\n",
              "    <tr>\n",
              "      <th>0</th>\n",
              "      <td>0.340382</td>\n",
              "      <td>0.147022</td>\n",
              "      <td>0.003319</td>\n",
              "      <td>0.000052</td>\n",
              "      <td>0.1</td>\n",
              "      <td>0.1</td>\n",
              "      <td>{'C': 0.1, 'tol': 0.1}</td>\n",
              "      <td>0.927077</td>\n",
              "      <td>0.931600</td>\n",
              "      <td>0.923120</td>\n",
              "      <td>0.941775</td>\n",
              "      <td>0.909502</td>\n",
              "      <td>0.926615</td>\n",
              "      <td>0.010582</td>\n",
              "      <td>1</td>\n",
              "    </tr>\n",
              "    <tr>\n",
              "      <th>1</th>\n",
              "      <td>0.344806</td>\n",
              "      <td>0.143476</td>\n",
              "      <td>0.003415</td>\n",
              "      <td>0.000104</td>\n",
              "      <td>0.1</td>\n",
              "      <td>1</td>\n",
              "      <td>{'C': 0.1, 'tol': 1}</td>\n",
              "      <td>0.927077</td>\n",
              "      <td>0.931600</td>\n",
              "      <td>0.923120</td>\n",
              "      <td>0.941775</td>\n",
              "      <td>0.909502</td>\n",
              "      <td>0.926615</td>\n",
              "      <td>0.010582</td>\n",
              "      <td>1</td>\n",
              "    </tr>\n",
              "    <tr>\n",
              "      <th>2</th>\n",
              "      <td>0.341060</td>\n",
              "      <td>0.130391</td>\n",
              "      <td>0.003405</td>\n",
              "      <td>0.000108</td>\n",
              "      <td>0.1</td>\n",
              "      <td>10</td>\n",
              "      <td>{'C': 0.1, 'tol': 10}</td>\n",
              "      <td>0.927077</td>\n",
              "      <td>0.931600</td>\n",
              "      <td>0.923120</td>\n",
              "      <td>0.941775</td>\n",
              "      <td>0.909502</td>\n",
              "      <td>0.926615</td>\n",
              "      <td>0.010582</td>\n",
              "      <td>1</td>\n",
              "    </tr>\n",
              "    <tr>\n",
              "      <th>3</th>\n",
              "      <td>0.427926</td>\n",
              "      <td>0.086172</td>\n",
              "      <td>0.003380</td>\n",
              "      <td>0.000051</td>\n",
              "      <td>1</td>\n",
              "      <td>0.1</td>\n",
              "      <td>{'C': 1, 'tol': 0.1}</td>\n",
              "      <td>0.926512</td>\n",
              "      <td>0.929339</td>\n",
              "      <td>0.918598</td>\n",
              "      <td>0.939514</td>\n",
              "      <td>0.915724</td>\n",
              "      <td>0.925937</td>\n",
              "      <td>0.008419</td>\n",
              "      <td>4</td>\n",
              "    </tr>\n",
              "    <tr>\n",
              "      <th>4</th>\n",
              "      <td>0.431364</td>\n",
              "      <td>0.088071</td>\n",
              "      <td>0.003541</td>\n",
              "      <td>0.000372</td>\n",
              "      <td>1</td>\n",
              "      <td>1</td>\n",
              "      <td>{'C': 1, 'tol': 1}</td>\n",
              "      <td>0.926512</td>\n",
              "      <td>0.929339</td>\n",
              "      <td>0.918598</td>\n",
              "      <td>0.939514</td>\n",
              "      <td>0.915724</td>\n",
              "      <td>0.925937</td>\n",
              "      <td>0.008419</td>\n",
              "      <td>4</td>\n",
              "    </tr>\n",
              "    <tr>\n",
              "      <th>5</th>\n",
              "      <td>0.436673</td>\n",
              "      <td>0.096581</td>\n",
              "      <td>0.003352</td>\n",
              "      <td>0.000067</td>\n",
              "      <td>1</td>\n",
              "      <td>10</td>\n",
              "      <td>{'C': 1, 'tol': 10}</td>\n",
              "      <td>0.926512</td>\n",
              "      <td>0.929339</td>\n",
              "      <td>0.918598</td>\n",
              "      <td>0.939514</td>\n",
              "      <td>0.915724</td>\n",
              "      <td>0.925937</td>\n",
              "      <td>0.008419</td>\n",
              "      <td>4</td>\n",
              "    </tr>\n",
              "    <tr>\n",
              "      <th>6</th>\n",
              "      <td>0.365915</td>\n",
              "      <td>0.156989</td>\n",
              "      <td>0.005147</td>\n",
              "      <td>0.003414</td>\n",
              "      <td>10</td>\n",
              "      <td>0.1</td>\n",
              "      <td>{'C': 10, 'tol': 0.1}</td>\n",
              "      <td>0.928208</td>\n",
              "      <td>0.929904</td>\n",
              "      <td>0.918033</td>\n",
              "      <td>0.938949</td>\n",
              "      <td>0.911765</td>\n",
              "      <td>0.925372</td>\n",
              "      <td>0.009507</td>\n",
              "      <td>7</td>\n",
              "    </tr>\n",
              "    <tr>\n",
              "      <th>7</th>\n",
              "      <td>0.363500</td>\n",
              "      <td>0.164511</td>\n",
              "      <td>0.003696</td>\n",
              "      <td>0.000287</td>\n",
              "      <td>10</td>\n",
              "      <td>1</td>\n",
              "      <td>{'C': 10, 'tol': 1}</td>\n",
              "      <td>0.928208</td>\n",
              "      <td>0.929904</td>\n",
              "      <td>0.918033</td>\n",
              "      <td>0.938949</td>\n",
              "      <td>0.911765</td>\n",
              "      <td>0.925372</td>\n",
              "      <td>0.009507</td>\n",
              "      <td>7</td>\n",
              "    </tr>\n",
              "    <tr>\n",
              "      <th>8</th>\n",
              "      <td>0.369082</td>\n",
              "      <td>0.157257</td>\n",
              "      <td>0.003494</td>\n",
              "      <td>0.000212</td>\n",
              "      <td>10</td>\n",
              "      <td>10</td>\n",
              "      <td>{'C': 10, 'tol': 10}</td>\n",
              "      <td>0.928208</td>\n",
              "      <td>0.929904</td>\n",
              "      <td>0.918033</td>\n",
              "      <td>0.938949</td>\n",
              "      <td>0.911765</td>\n",
              "      <td>0.925372</td>\n",
              "      <td>0.009507</td>\n",
              "      <td>7</td>\n",
              "    </tr>\n",
              "  </tbody>\n",
              "</table>\n",
              "</div>\n",
              "      <button class=\"colab-df-convert\" onclick=\"convertToInteractive('df-1f0c7c0c-3b12-4556-a1c7-bfdab7252f63')\"\n",
              "              title=\"Convert this dataframe to an interactive table.\"\n",
              "              style=\"display:none;\">\n",
              "        \n",
              "  <svg xmlns=\"http://www.w3.org/2000/svg\" height=\"24px\"viewBox=\"0 0 24 24\"\n",
              "       width=\"24px\">\n",
              "    <path d=\"M0 0h24v24H0V0z\" fill=\"none\"/>\n",
              "    <path d=\"M18.56 5.44l.94 2.06.94-2.06 2.06-.94-2.06-.94-.94-2.06-.94 2.06-2.06.94zm-11 1L8.5 8.5l.94-2.06 2.06-.94-2.06-.94L8.5 2.5l-.94 2.06-2.06.94zm10 10l.94 2.06.94-2.06 2.06-.94-2.06-.94-.94-2.06-.94 2.06-2.06.94z\"/><path d=\"M17.41 7.96l-1.37-1.37c-.4-.4-.92-.59-1.43-.59-.52 0-1.04.2-1.43.59L10.3 9.45l-7.72 7.72c-.78.78-.78 2.05 0 2.83L4 21.41c.39.39.9.59 1.41.59.51 0 1.02-.2 1.41-.59l7.78-7.78 2.81-2.81c.8-.78.8-2.07 0-2.86zM5.41 20L4 18.59l7.72-7.72 1.47 1.35L5.41 20z\"/>\n",
              "  </svg>\n",
              "      </button>\n",
              "      \n",
              "  <style>\n",
              "    .colab-df-container {\n",
              "      display:flex;\n",
              "      flex-wrap:wrap;\n",
              "      gap: 12px;\n",
              "    }\n",
              "\n",
              "    .colab-df-convert {\n",
              "      background-color: #E8F0FE;\n",
              "      border: none;\n",
              "      border-radius: 50%;\n",
              "      cursor: pointer;\n",
              "      display: none;\n",
              "      fill: #1967D2;\n",
              "      height: 32px;\n",
              "      padding: 0 0 0 0;\n",
              "      width: 32px;\n",
              "    }\n",
              "\n",
              "    .colab-df-convert:hover {\n",
              "      background-color: #E2EBFA;\n",
              "      box-shadow: 0px 1px 2px rgba(60, 64, 67, 0.3), 0px 1px 3px 1px rgba(60, 64, 67, 0.15);\n",
              "      fill: #174EA6;\n",
              "    }\n",
              "\n",
              "    [theme=dark] .colab-df-convert {\n",
              "      background-color: #3B4455;\n",
              "      fill: #D2E3FC;\n",
              "    }\n",
              "\n",
              "    [theme=dark] .colab-df-convert:hover {\n",
              "      background-color: #434B5C;\n",
              "      box-shadow: 0px 1px 3px 1px rgba(0, 0, 0, 0.15);\n",
              "      filter: drop-shadow(0px 1px 2px rgba(0, 0, 0, 0.3));\n",
              "      fill: #FFFFFF;\n",
              "    }\n",
              "  </style>\n",
              "\n",
              "      <script>\n",
              "        const buttonEl =\n",
              "          document.querySelector('#df-1f0c7c0c-3b12-4556-a1c7-bfdab7252f63 button.colab-df-convert');\n",
              "        buttonEl.style.display =\n",
              "          google.colab.kernel.accessAllowed ? 'block' : 'none';\n",
              "\n",
              "        async function convertToInteractive(key) {\n",
              "          const element = document.querySelector('#df-1f0c7c0c-3b12-4556-a1c7-bfdab7252f63');\n",
              "          const dataTable =\n",
              "            await google.colab.kernel.invokeFunction('convertToInteractive',\n",
              "                                                     [key], {});\n",
              "          if (!dataTable) return;\n",
              "\n",
              "          const docLinkHtml = 'Like what you see? Visit the ' +\n",
              "            '<a target=\"_blank\" href=https://colab.research.google.com/notebooks/data_table.ipynb>data table notebook</a>'\n",
              "            + ' to learn more about interactive tables.';\n",
              "          element.innerHTML = '';\n",
              "          dataTable['output_type'] = 'display_data';\n",
              "          await google.colab.output.renderOutput(dataTable, element);\n",
              "          const docLink = document.createElement('div');\n",
              "          docLink.innerHTML = docLinkHtml;\n",
              "          element.appendChild(docLink);\n",
              "        }\n",
              "      </script>\n",
              "    </div>\n",
              "  </div>\n",
              "  "
            ]
          },
          "metadata": {},
          "execution_count": 15
        }
      ],
      "source": [
        "from sklearn.linear_model import LogisticRegression\n",
        "\n",
        "lr = LogisticRegression(multi_class = \"ovr\", max_iter = 4000, penalty = \"l2\")\n",
        "clf2 = GridSearchCV(lr,{\n",
        "    'C':[0.1,1,10],\n",
        "    'tol':[0.1,1,10],\n",
        "}, return_train_score = False)\n",
        "\n",
        "clf2.fit(X_train, y_train.values.ravel())\n",
        "res2=pd.DataFrame(clf2.cv_results_)\n",
        "res2"
      ]
    },
    {
      "cell_type": "code",
      "execution_count": null,
      "metadata": {
        "colab": {
          "base_uri": "https://localhost:8080/"
        },
        "id": "T0Moy6fUXZwH",
        "outputId": "8ccc3af6-ca7a-4bb1-b7a0-493a729b9278"
      },
      "outputs": [
        {
          "output_type": "execute_result",
          "data": {
            "text/plain": [
              "0.9235639981908639"
            ]
          },
          "metadata": {},
          "execution_count": 16
        }
      ],
      "source": [
        "from sklearn.linear_model import LogisticRegression\n",
        "lr_best = LogisticRegression(multi_class = \"ovr\", max_iter = 4000, penalty = \"l2\",C=0.1,tol=1)\n",
        "lr_best.fit(X_train,y_train.values.ravel())\n",
        "lr_best.score(X_test,y_test)"
      ]
    },
    {
      "cell_type": "markdown",
      "source": [
        "## **Evaluation**"
      ],
      "metadata": {
        "id": "j8FILLERkmJI"
      }
    },
    {
      "cell_type": "code",
      "execution_count": null,
      "metadata": {
        "id": "9ThCm8OoEboW"
      },
      "outputs": [],
      "source": [
        "from sklearn import metrics\n",
        "\n",
        "y_pred = rfc_best.predict(X_test)\n"
      ]
    },
    {
      "cell_type": "code",
      "execution_count": null,
      "metadata": {
        "colab": {
          "base_uri": "https://localhost:8080/"
        },
        "id": "71p4N7_lQjqk",
        "outputId": "8a66af78-a661-40ff-8674-f93b76e8a33b"
      },
      "outputs": [
        {
          "output_type": "stream",
          "name": "stdout",
          "text": [
            "              precision    recall  f1-score   support\n",
            "\n",
            "           0       0.95      0.97      0.96      1010\n",
            "           1       0.98      0.96      0.97      1201\n",
            "\n",
            "    accuracy                           0.97      2211\n",
            "   macro avg       0.97      0.97      0.97      2211\n",
            "weighted avg       0.97      0.97      0.97      2211\n",
            "\n"
          ]
        }
      ],
      "source": [
        "print(metrics.classification_report(y_pred, y_test))"
      ]
    },
    {
      "cell_type": "code",
      "execution_count": null,
      "metadata": {
        "colab": {
          "base_uri": "https://localhost:8080/"
        },
        "id": "L9Zq2HNIQ_80",
        "outputId": "3f154d46-185e-4b86-ac6e-617fe1010583"
      },
      "outputs": [
        {
          "output_type": "stream",
          "name": "stdout",
          "text": [
            "[[ 983   47]\n",
            " [  27 1154]]\n"
          ]
        }
      ],
      "source": [
        "from sklearn.metrics import confusion_matrix\n",
        "\n",
        "cm = confusion_matrix(y_test, y_pred)\n",
        "print(cm)"
      ]
    },
    {
      "cell_type": "code",
      "execution_count": null,
      "metadata": {
        "colab": {
          "base_uri": "https://localhost:8080/",
          "height": 296
        },
        "id": "Y_bHbSVaRRgj",
        "outputId": "b7485c04-8da0-42a7-8cf7-37c14e095839"
      },
      "outputs": [
        {
          "output_type": "execute_result",
          "data": {
            "text/plain": [
              "Text(91.68, 0.5, 'predicted label')"
            ]
          },
          "metadata": {},
          "execution_count": 20
        },
        {
          "output_type": "display_data",
          "data": {
            "text/plain": [
              "<Figure size 432x288 with 1 Axes>"
            ],
            "image/png": "[encoded data removed]"
          },
          "metadata": {
            "needs_background": "light"
          }
        }
      ],
      "source": [
        "import matplotlib.pyplot as plt\n",
        "import seaborn as sns\n",
        "from sklearn.tree import export_graphviz\n",
        "\n",
        "sns.heatmap(cm.T, square=True, annot=True, fmt='d', cbar=False)\n",
        "plt.xlabel('true label')\n",
        "plt.ylabel('predicted label')"
      ]
    },
    {
      "cell_type": "code",
      "execution_count": null,
      "metadata": {
        "colab": {
          "base_uri": "https://localhost:8080/"
        },
        "id": "f3iyecO0QrOu",
        "outputId": "a48d858d-bdd8-439d-9653-41b4f2340b93"
      },
      "outputs": [
        {
          "output_type": "execute_result",
          "data": {
            "text/plain": [
              "array([0, 1, 0, ..., 1, 1, 0])"
            ]
          },
          "metadata": {},
          "execution_count": 21
        }
      ],
      "source": [
        "y_pred2 = lr_best.predict(X_test)\n",
        "y_pred2"
      ]
    },
    {
      "cell_type": "code",
      "execution_count": null,
      "metadata": {
        "colab": {
          "base_uri": "https://localhost:8080/"
        },
        "id": "Xocxsf0BQ5Vl",
        "outputId": "91f01b12-80bc-4147-a97a-9b19b4ab2787"
      },
      "outputs": [
        {
          "output_type": "stream",
          "name": "stdout",
          "text": [
            "              precision    recall  f1-score   support\n",
            "\n",
            "           0       0.90      0.94      0.92       985\n",
            "           1       0.95      0.91      0.93      1226\n",
            "\n",
            "    accuracy                           0.92      2211\n",
            "   macro avg       0.92      0.92      0.92      2211\n",
            "weighted avg       0.92      0.92      0.92      2211\n",
            "\n"
          ]
        }
      ],
      "source": [
        "print(metrics.classification_report(y_pred2, y_test))"
      ]
    },
    {
      "cell_type": "code",
      "execution_count": null,
      "metadata": {
        "colab": {
          "base_uri": "https://localhost:8080/",
          "height": 331
        },
        "id": "WHLUta6YQ79P",
        "outputId": "537c5329-7ebf-4845-e188-a65c72b20ff1"
      },
      "outputs": [
        {
          "output_type": "stream",
          "name": "stdout",
          "text": [
            "[[ 923  107]\n",
            " [  62 1119]]\n"
          ]
        },
        {
          "output_type": "execute_result",
          "data": {
            "text/plain": [
              "Text(91.68, 0.5, 'predicted label')"
            ]
          },
          "metadata": {},
          "execution_count": 23
        },
        {
          "output_type": "display_data",
          "data": {
            "text/plain": [
              "<Figure size 432x288 with 1 Axes>"
            ],
            "image/png": "[encoded data removed]"
          },
          "metadata": {
            "needs_background": "light"
          }
        }
      ],
      "source": [
        "cm2 = confusion_matrix(y_test, y_pred2)\n",
        "print(cm2)\n",
        "\n",
        "sns.heatmap(cm2.T, square=True, annot=True, fmt='d', cbar=False)\n",
        "plt.xlabel('true label')\n",
        "plt.ylabel('predicted label')"
      ]
    },
    {
      "cell_type": "markdown",
      "source": [
        "## **New model - Neural Networks**"
      ],
      "metadata": {
        "id": "DH2nVhNgkp4w"
      }
    },
    {
      "cell_type": "code",
      "source": [
        "import keras\n",
        "from keras.models import Sequential\n",
        "from keras.layers import Dense\n",
        "from keras.layers import LeakyReLU,PReLU,ELU\n",
        "from keras.layers import Dropout\n",
        "\n",
        "model=Sequential()\n",
        "\n",
        "model.add(Dense(units=60,activation='relu',input_dim=31))\n",
        "model.add(Dense(units=24,activation='relu'))\n",
        "model.add(Dense(units=12,activation='relu'))\n",
        "model.add(Dense(units=1,activation='sigmoid'))"
      ],
      "metadata": {
        "id": "QgypFXjqR2ya"
      },
      "execution_count": null,
      "outputs": []
    },
    {
      "cell_type": "code",
      "source": [
        "model.summary()"
      ],
      "metadata": {
        "colab": {
          "base_uri": "https://localhost:8080/"
        },
        "id": "xvhZz4gSB8dc",
        "outputId": "4e94ff48-512c-4e37-9cf7-a870b6d129fb"
      },
      "execution_count": null,
      "outputs": [
        {
          "output_type": "stream",
          "name": "stdout",
          "text": [
            "Model: \"sequential_1\"\n",
            "_________________________________________________________________\n",
            " Layer (type)                Output Shape              Param #   \n",
            "=================================================================\n",
            " dense_4 (Dense)             (None, 60)                1920      \n",
            "                                                                 \n",
            " dense_5 (Dense)             (None, 24)                1464      \n",
            "                                                                 \n",
            " dense_6 (Dense)             (None, 12)                300       \n",
            "                                                                 \n",
            " dense_7 (Dense)             (None, 1)                 13        \n",
            "                                                                 \n",
            "=================================================================\n",
            "Total params: 3,697\n",
            "Trainable params: 3,697\n",
            "Non-trainable params: 0\n",
            "_________________________________________________________________\n"
          ]
        }
      ]
    },
    {
      "cell_type": "code",
      "source": [
        "model.compile(optimizer='adam', loss='binary_crossentropy', metrics=['accuracy'])\n",
        "\n",
        "# fitting the Neural Network on the training data\n",
        "RNN_Model=model.fit(X_train,y_train, batch_size=10 , epochs=100, verbose=1)"
      ],
      "metadata": {
        "colab": {
          "base_uri": "https://localhost:8080/"
        },
        "id": "nFjsPQ-xWD9W",
        "outputId": "34680c47-58c5-4557-a671-7a9ae830eeef"
      },
      "execution_count": null,
      "outputs": [
        {
          "output_type": "stream",
          "name": "stdout",
          "text": [
            "Epoch 1/100\n",
            "885/885 [==============================] - 2s 2ms/step - loss: 4.9071 - accuracy: 0.6017\n",
            "Epoch 2/100\n",
            "885/885 [==============================] - 2s 2ms/step - loss: 2.1481 - accuracy: 0.7203\n",
            "Epoch 3/100\n",
            "885/885 [==============================] - 2s 2ms/step - loss: 1.3771 - accuracy: 0.7786\n",
            "Epoch 4/100\n",
            "885/885 [==============================] - 2s 2ms/step - loss: 1.1685 - accuracy: 0.7957\n",
            "Epoch 5/100\n",
            "885/885 [==============================] - 2s 2ms/step - loss: 1.2857 - accuracy: 0.7968\n",
            "Epoch 6/100\n",
            "885/885 [==============================] - 2s 2ms/step - loss: 1.0931 - accuracy: 0.8151\n",
            "Epoch 7/100\n",
            "885/885 [==============================] - 2s 2ms/step - loss: 0.5206 - accuracy: 0.8606\n",
            "Epoch 8/100\n",
            "885/885 [==============================] - 2s 2ms/step - loss: 0.4802 - accuracy: 0.8600\n",
            "Epoch 9/100\n",
            "885/885 [==============================] - 3s 4ms/step - loss: 0.6254 - accuracy: 0.8467\n",
            "Epoch 10/100\n",
            "885/885 [==============================] - 3s 3ms/step - loss: 0.3927 - accuracy: 0.8775\n",
            "Epoch 11/100\n",
            "885/885 [==============================] - 2s 2ms/step - loss: 0.5465 - accuracy: 0.8569\n",
            "Epoch 12/100\n",
            "885/885 [==============================] - 2s 2ms/step - loss: 0.3669 - accuracy: 0.8744\n",
            "Epoch 13/100\n",
            "885/885 [==============================] - 2s 2ms/step - loss: 0.4291 - accuracy: 0.8685\n",
            "Epoch 14/100\n",
            "885/885 [==============================] - 2s 2ms/step - loss: 0.3242 - accuracy: 0.8814\n",
            "Epoch 15/100\n",
            "885/885 [==============================] - 2s 2ms/step - loss: 0.3561 - accuracy: 0.8769\n",
            "Epoch 16/100\n",
            "885/885 [==============================] - 2s 2ms/step - loss: 0.2891 - accuracy: 0.8903\n",
            "Epoch 17/100\n",
            "885/885 [==============================] - 2s 2ms/step - loss: 0.2767 - accuracy: 0.8873\n",
            "Epoch 18/100\n",
            "885/885 [==============================] - 2s 2ms/step - loss: 0.2734 - accuracy: 0.8954\n",
            "Epoch 19/100\n",
            "885/885 [==============================] - 2s 2ms/step - loss: 0.2964 - accuracy: 0.8890\n",
            "Epoch 20/100\n",
            "885/885 [==============================] - 2s 2ms/step - loss: 0.2722 - accuracy: 0.8974\n",
            "Epoch 21/100\n",
            "885/885 [==============================] - 2s 2ms/step - loss: 0.6491 - accuracy: 0.6416\n",
            "Epoch 22/100\n",
            "885/885 [==============================] - 2s 2ms/step - loss: 0.6171 - accuracy: 0.6415\n",
            "Epoch 23/100\n",
            "885/885 [==============================] - 2s 2ms/step - loss: 0.4970 - accuracy: 0.7134\n",
            "Epoch 24/100\n",
            "885/885 [==============================] - 2s 2ms/step - loss: 0.2600 - accuracy: 0.8963\n",
            "Epoch 25/100\n",
            "885/885 [==============================] - 2s 2ms/step - loss: 0.2477 - accuracy: 0.9006\n",
            "Epoch 26/100\n",
            "885/885 [==============================] - 2s 2ms/step - loss: 0.2384 - accuracy: 0.9045\n",
            "Epoch 27/100\n",
            "885/885 [==============================] - 2s 2ms/step - loss: 0.2418 - accuracy: 0.9048\n",
            "Epoch 28/100\n",
            "885/885 [==============================] - 2s 2ms/step - loss: 0.2371 - accuracy: 0.9042\n",
            "Epoch 29/100\n",
            "885/885 [==============================] - 2s 2ms/step - loss: 0.2460 - accuracy: 0.9024\n",
            "Epoch 30/100\n",
            "885/885 [==============================] - 2s 2ms/step - loss: 0.2453 - accuracy: 0.9017\n",
            "Epoch 31/100\n",
            "885/885 [==============================] - 2s 2ms/step - loss: 0.2359 - accuracy: 0.9065\n",
            "Epoch 32/100\n",
            "885/885 [==============================] - 2s 2ms/step - loss: 0.2343 - accuracy: 0.9058\n",
            "Epoch 33/100\n",
            "885/885 [==============================] - 2s 2ms/step - loss: 0.2376 - accuracy: 0.9049\n",
            "Epoch 34/100\n",
            "885/885 [==============================] - 2s 2ms/step - loss: 0.2332 - accuracy: 0.9060\n",
            "Epoch 35/100\n",
            "885/885 [==============================] - 2s 2ms/step - loss: 0.2234 - accuracy: 0.9126\n",
            "Epoch 36/100\n",
            "885/885 [==============================] - 2s 2ms/step - loss: 0.2279 - accuracy: 0.9108\n",
            "Epoch 37/100\n",
            "885/885 [==============================] - 2s 2ms/step - loss: 0.2211 - accuracy: 0.9110\n",
            "Epoch 38/100\n",
            "885/885 [==============================] - 2s 2ms/step - loss: 0.2300 - accuracy: 0.9054\n",
            "Epoch 39/100\n",
            "885/885 [==============================] - 2s 2ms/step - loss: 0.2416 - accuracy: 0.9038\n",
            "Epoch 40/100\n",
            "885/885 [==============================] - 2s 2ms/step - loss: 0.2225 - accuracy: 0.9124\n",
            "Epoch 41/100\n",
            "885/885 [==============================] - 2s 2ms/step - loss: 0.2201 - accuracy: 0.9132\n",
            "Epoch 42/100\n",
            "885/885 [==============================] - 2s 2ms/step - loss: 0.2252 - accuracy: 0.9114\n",
            "Epoch 43/100\n",
            "885/885 [==============================] - 2s 2ms/step - loss: 0.2229 - accuracy: 0.9128\n",
            "Epoch 44/100\n",
            "885/885 [==============================] - 2s 2ms/step - loss: 0.2208 - accuracy: 0.9129\n",
            "Epoch 45/100\n",
            "885/885 [==============================] - 2s 2ms/step - loss: 0.2193 - accuracy: 0.9129\n",
            "Epoch 46/100\n",
            "885/885 [==============================] - 2s 2ms/step - loss: 0.2237 - accuracy: 0.9117\n",
            "Epoch 47/100\n",
            "885/885 [==============================] - 2s 2ms/step - loss: 0.2091 - accuracy: 0.9163\n",
            "Epoch 48/100\n",
            "885/885 [==============================] - 2s 2ms/step - loss: 0.2271 - accuracy: 0.9072\n",
            "Epoch 49/100\n",
            "885/885 [==============================] - 2s 2ms/step - loss: 0.2108 - accuracy: 0.9168\n",
            "Epoch 50/100\n",
            "885/885 [==============================] - 2s 2ms/step - loss: 0.2112 - accuracy: 0.9147\n",
            "Epoch 51/100\n",
            "885/885 [==============================] - 2s 2ms/step - loss: 0.2168 - accuracy: 0.9151\n",
            "Epoch 52/100\n",
            "885/885 [==============================] - 2s 2ms/step - loss: 0.2069 - accuracy: 0.9184\n",
            "Epoch 53/100\n",
            "885/885 [==============================] - 2s 2ms/step - loss: 0.2151 - accuracy: 0.9121\n",
            "Epoch 54/100\n",
            "885/885 [==============================] - 2s 2ms/step - loss: 0.2145 - accuracy: 0.9145\n",
            "Epoch 55/100\n",
            "885/885 [==============================] - 2s 2ms/step - loss: 0.2077 - accuracy: 0.9172\n",
            "Epoch 56/100\n",
            "885/885 [==============================] - 2s 2ms/step - loss: 0.2096 - accuracy: 0.9147\n",
            "Epoch 57/100\n",
            "885/885 [==============================] - 2s 3ms/step - loss: 0.2194 - accuracy: 0.9136\n",
            "Epoch 58/100\n",
            "885/885 [==============================] - 2s 3ms/step - loss: 0.2053 - accuracy: 0.9204\n",
            "Epoch 59/100\n",
            "885/885 [==============================] - 2s 2ms/step - loss: 0.2136 - accuracy: 0.9173\n",
            "Epoch 60/100\n",
            "885/885 [==============================] - 2s 2ms/step - loss: 0.2045 - accuracy: 0.9158\n",
            "Epoch 61/100\n",
            "885/885 [==============================] - 2s 2ms/step - loss: 0.2163 - accuracy: 0.9118\n",
            "Epoch 62/100\n",
            "885/885 [==============================] - 2s 2ms/step - loss: 0.2047 - accuracy: 0.9175\n",
            "Epoch 63/100\n",
            "885/885 [==============================] - 2s 2ms/step - loss: 0.2054 - accuracy: 0.9172\n",
            "Epoch 64/100\n",
            "885/885 [==============================] - 2s 2ms/step - loss: 0.2043 - accuracy: 0.9167\n",
            "Epoch 65/100\n",
            "885/885 [==============================] - 2s 2ms/step - loss: 0.2079 - accuracy: 0.9189\n",
            "Epoch 66/100\n",
            "885/885 [==============================] - 2s 2ms/step - loss: 0.2067 - accuracy: 0.9180\n",
            "Epoch 67/100\n",
            "885/885 [==============================] - 2s 2ms/step - loss: 0.2076 - accuracy: 0.9189\n",
            "Epoch 68/100\n",
            "885/885 [==============================] - 2s 2ms/step - loss: 0.2083 - accuracy: 0.9178\n",
            "Epoch 69/100\n",
            "885/885 [==============================] - 2s 2ms/step - loss: 0.2047 - accuracy: 0.9173\n",
            "Epoch 70/100\n",
            "885/885 [==============================] - 2s 2ms/step - loss: 0.1992 - accuracy: 0.9219\n",
            "Epoch 71/100\n",
            "885/885 [==============================] - 2s 2ms/step - loss: 0.2061 - accuracy: 0.9170\n",
            "Epoch 72/100\n",
            "885/885 [==============================] - 2s 2ms/step - loss: 0.2048 - accuracy: 0.9199\n",
            "Epoch 73/100\n",
            "885/885 [==============================] - 2s 2ms/step - loss: 0.2071 - accuracy: 0.9176\n",
            "Epoch 74/100\n",
            "885/885 [==============================] - 2s 2ms/step - loss: 0.2002 - accuracy: 0.9177\n",
            "Epoch 75/100\n",
            "885/885 [==============================] - 2s 2ms/step - loss: 0.2051 - accuracy: 0.9159\n",
            "Epoch 76/100\n",
            "885/885 [==============================] - 2s 2ms/step - loss: 0.2096 - accuracy: 0.9155\n",
            "Epoch 77/100\n",
            "885/885 [==============================] - 2s 2ms/step - loss: 0.2028 - accuracy: 0.9167\n",
            "Epoch 78/100\n",
            "885/885 [==============================] - 2s 2ms/step - loss: 0.1930 - accuracy: 0.9224\n",
            "Epoch 79/100\n",
            "885/885 [==============================] - 2s 2ms/step - loss: 0.1976 - accuracy: 0.9209\n",
            "Epoch 80/100\n",
            "885/885 [==============================] - 2s 2ms/step - loss: 0.1987 - accuracy: 0.9206\n",
            "Epoch 81/100\n",
            "885/885 [==============================] - 2s 2ms/step - loss: 0.2024 - accuracy: 0.9184\n",
            "Epoch 82/100\n",
            "885/885 [==============================] - 2s 2ms/step - loss: 0.1983 - accuracy: 0.9197\n",
            "Epoch 83/100\n",
            "885/885 [==============================] - 2s 2ms/step - loss: 0.2010 - accuracy: 0.9196\n",
            "Epoch 84/100\n",
            "885/885 [==============================] - 2s 2ms/step - loss: 0.2026 - accuracy: 0.9188\n",
            "Epoch 85/100\n",
            "885/885 [==============================] - 2s 2ms/step - loss: 0.1964 - accuracy: 0.9205\n",
            "Epoch 86/100\n",
            "885/885 [==============================] - 2s 2ms/step - loss: 0.1936 - accuracy: 0.9232\n",
            "Epoch 87/100\n",
            "885/885 [==============================] - 2s 2ms/step - loss: 0.2008 - accuracy: 0.9162\n",
            "Epoch 88/100\n",
            "885/885 [==============================] - 2s 2ms/step - loss: 0.2088 - accuracy: 0.9186\n",
            "Epoch 89/100\n",
            "885/885 [==============================] - 2s 2ms/step - loss: 0.1954 - accuracy: 0.9230\n",
            "Epoch 90/100\n",
            "885/885 [==============================] - 2s 2ms/step - loss: 0.1939 - accuracy: 0.9211\n",
            "Epoch 91/100\n",
            "885/885 [==============================] - 2s 2ms/step - loss: 0.1944 - accuracy: 0.9232\n",
            "Epoch 92/100\n",
            "885/885 [==============================] - 2s 2ms/step - loss: 0.1920 - accuracy: 0.9227\n",
            "Epoch 93/100\n",
            "885/885 [==============================] - 2s 2ms/step - loss: 0.1901 - accuracy: 0.9241\n",
            "Epoch 94/100\n",
            "885/885 [==============================] - 2s 2ms/step - loss: 0.1920 - accuracy: 0.9263\n",
            "Epoch 95/100\n",
            "885/885 [==============================] - 2s 2ms/step - loss: 0.1990 - accuracy: 0.9205\n",
            "Epoch 96/100\n",
            "885/885 [==============================] - 2s 2ms/step - loss: 0.1960 - accuracy: 0.9223\n",
            "Epoch 97/100\n",
            "885/885 [==============================] - 2s 2ms/step - loss: 0.1925 - accuracy: 0.9232\n",
            "Epoch 98/100\n",
            "885/885 [==============================] - 2s 2ms/step - loss: 0.1904 - accuracy: 0.9227\n",
            "Epoch 99/100\n",
            "885/885 [==============================] - 2s 2ms/step - loss: 0.1959 - accuracy: 0.9219\n",
            "Epoch 100/100\n",
            "885/885 [==============================] - 2s 2ms/step - loss: 0.1933 - accuracy: 0.9206\n"
          ]
        }
      ]
    },
    {
      "cell_type": "code",
      "source": [
        "y_test_rnn = model.predict(X_test)\n",
        "y_train_rnn = model.predict(X_train)"
      ],
      "metadata": {
        "id": "sbnqxyIUhIVr"
      },
      "execution_count": null,
      "outputs": []
    },
    {
      "cell_type": "code",
      "source": [
        ""
      ],
      "metadata": {
        "id": "pqOADgv3CCYb"
      },
      "execution_count": null,
      "outputs": []
    },
    {
      "cell_type": "code",
      "source": [
        "scores = model.evaluate(X_test, y_test)"
      ],
      "metadata": {
        "colab": {
          "base_uri": "https://localhost:8080/"
        },
        "id": "4NnNiOCehwea",
        "outputId": "40b1ec46-2bc5-46c1-a493-7f1d1b8af91d"
      },
      "execution_count": null,
      "outputs": [
        {
          "output_type": "stream",
          "name": "stdout",
          "text": [
            "70/70 [==============================] - 0s 1ms/step - loss: 0.1930 - accuracy: 0.9231\n"
          ]
        }
      ]
    },
    {
      "cell_type": "code",
      "source": [
        "from sklearn.metrics import confusion_matrix\n",
        "from sklearn.metrics import classification_report\n",
        "\n",
        "preds = np.round(model.predict(X_test),0)\n",
        "\n",
        "print(confusion_matrix(y_test, preds))\n",
        "\n",
        "print(classification_report(y_test, preds))"
      ],
      "metadata": {
        "colab": {
          "base_uri": "https://localhost:8080/"
        },
        "id": "UMvIV9r9hLxJ",
        "outputId": "5a3f0973-558b-4d91-d105-4e6bbfdf4ee7"
      },
      "execution_count": null,
      "outputs": [
        {
          "output_type": "stream",
          "name": "stdout",
          "text": [
            "[[ 936   94]\n",
            " [  76 1105]]\n",
            "              precision    recall  f1-score   support\n",
            "\n",
            "           0       0.92      0.91      0.92      1030\n",
            "           1       0.92      0.94      0.93      1181\n",
            "\n",
            "    accuracy                           0.92      2211\n",
            "   macro avg       0.92      0.92      0.92      2211\n",
            "weighted avg       0.92      0.92      0.92      2211\n",
            "\n"
          ]
        }
      ]
    },
    {
      "cell_type": "code",
      "source": [
        ""
      ],
      "metadata": {
        "id": "X8U3XFXydDSY"
      },
      "execution_count": null,
      "outputs": []
    }
  ],
  "metadata": {
    "colab": {
      "collapsed_sections": [],
      "name": "ISM.ipynb",
      "provenance": [],
      "include_colab_link": true
    },
    "kernelspec": {
      "display_name": "Python 3",
      "name": "python3"
    },
    "language_info": {
      "name": "python"
    }
  },
  "nbformat": 4,
  "nbformat_minor": 0
}